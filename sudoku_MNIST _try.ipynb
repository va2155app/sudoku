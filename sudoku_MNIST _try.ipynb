{
 "cells": [
  {
   "cell_type": "code",
   "execution_count": 1,
   "metadata": {},
   "outputs": [
    {
     "name": "stderr",
     "output_type": "stream",
     "text": [
      "Using TensorFlow backend.\n"
     ]
    }
   ],
   "source": [
    "from keras.datasets import mnist  \n",
    "from keras.utils import np_utils  \n",
    "import numpy as np\n",
    "\n",
    "np.random.seed(10)  \n",
    "  \n",
    "# Read MNIST data  \n",
    "(X_Train, y_Train), (X_Test, y_Test) = mnist.load_data()  \n",
    "  \n",
    "# Translation of data  \n",
    "X_Train4D = X_Train.reshape(X_Train.shape[0], 28, 28, 1).astype('float32')  \n",
    "X_Test4D = X_Test.reshape(X_Test.shape[0], 28, 28, 1).astype('float32')"
   ]
  },
  {
   "cell_type": "code",
   "execution_count": 2,
   "metadata": {},
   "outputs": [],
   "source": [
    "# Standardize feature data  \n",
    "X_Train4D_norm = X_Train4D / 255  \n",
    "X_Test4D_norm = X_Test4D /255  \n",
    "  \n",
    "# Label Onehot-encoding  \n",
    "y_TrainOneHot = np_utils.to_categorical(y_Train)\n",
    "y_TestOneHot = np_utils.to_categorical(y_Test)"
   ]
  },
  {
   "cell_type": "code",
   "execution_count": 3,
   "metadata": {},
   "outputs": [
    {
     "name": "stdout",
     "output_type": "stream",
     "text": [
      "Model: \"sequential_1\"\n",
      "_________________________________________________________________\n",
      "Layer (type)                 Output Shape              Param #   \n",
      "=================================================================\n",
      "conv2d_1 (Conv2D)            (None, 28, 28, 16)        416       \n",
      "_________________________________________________________________\n",
      "max_pooling2d_1 (MaxPooling2 (None, 14, 14, 16)        0         \n",
      "_________________________________________________________________\n",
      "conv2d_2 (Conv2D)            (None, 14, 14, 36)        14436     \n",
      "_________________________________________________________________\n",
      "max_pooling2d_2 (MaxPooling2 (None, 7, 7, 36)          0         \n",
      "_________________________________________________________________\n",
      "dropout_1 (Dropout)          (None, 7, 7, 36)          0         \n",
      "_________________________________________________________________\n",
      "flatten_1 (Flatten)          (None, 1764)              0         \n",
      "_________________________________________________________________\n",
      "dense_1 (Dense)              (None, 128)               225920    \n",
      "_________________________________________________________________\n",
      "dropout_2 (Dropout)          (None, 128)               0         \n",
      "_________________________________________________________________\n",
      "dense_2 (Dense)              (None, 10)                1290      \n",
      "=================================================================\n",
      "Total params: 242,062\n",
      "Trainable params: 242,062\n",
      "Non-trainable params: 0\n",
      "_________________________________________________________________\n"
     ]
    }
   ],
   "source": [
    "from keras.models import Sequential  \n",
    "from keras.layers import Dense,Dropout,Flatten,Conv2D,MaxPool2D \n",
    "\n",
    "model = Sequential()  \n",
    "# Create CN layer 1  \n",
    "model.add(Conv2D(filters=16,  \n",
    "                 kernel_size=(5,5),  \n",
    "                 padding='same',  \n",
    "                 input_shape=(28,28,1),  \n",
    "                 activation='relu',\n",
    "                 name='conv2d_1')) \n",
    "# Create Max-Pool 1  \n",
    "model.add(MaxPool2D(pool_size=(2,2), name='max_pooling2d_1'))  \n",
    "  \n",
    "# Create CN layer 2  \n",
    "model.add(Conv2D(filters=36,  \n",
    "                 kernel_size=(5,5),  \n",
    "                 padding='same',  \n",
    "                 input_shape=(28,28,1),  \n",
    "                 activation='relu',\n",
    "                 name='conv2d_2'))  \n",
    "# Create Max-Pool 2  \n",
    "model.add(MaxPool2D(pool_size=(2,2), name='max_pooling2d_2'))  \n",
    "\n",
    "\n",
    "\n",
    "\n",
    "# Add Dropout layer  \n",
    "model.add(Dropout(0.25, name='dropout_1'))\n",
    "\n",
    "#建立 Hidden layer\n",
    "model.add(Flatten(name='flatten_1'))\n",
    "model.add(Dense(128, activation='relu', name='dense_1'))  \n",
    "model.add(Dropout(0.5, name='dropout_2'))\n",
    "\n",
    "#輸出層\n",
    "model.add(Dense(10, activation='softmax', name='dense_2'))\n",
    "\n",
    "model.summary()  "
   ]
  },
  {
   "cell_type": "code",
   "execution_count": 4,
   "metadata": {},
   "outputs": [
    {
     "name": "stdout",
     "output_type": "stream",
     "text": [
      "Train on 48000 samples, validate on 12000 samples\n",
      "Epoch 1/10\n",
      "48000/48000 [==============================] - 26s 536us/step - loss: 0.4694 - accuracy: 0.8532 - val_loss: 0.0987 - val_accuracy: 0.9699\n",
      "Epoch 2/10\n",
      "48000/48000 [==============================] - 29s 613us/step - loss: 0.1333 - accuracy: 0.9602 - val_loss: 0.0654 - val_accuracy: 0.9808\n",
      "Epoch 3/10\n",
      "48000/48000 [==============================] - 28s 592us/step - loss: 0.0997 - accuracy: 0.9696 - val_loss: 0.0548 - val_accuracy: 0.9843\n",
      "Epoch 4/10\n",
      "48000/48000 [==============================] - 28s 582us/step - loss: 0.0812 - accuracy: 0.9758 - val_loss: 0.0486 - val_accuracy: 0.9858\n",
      "Epoch 5/10\n",
      "48000/48000 [==============================] - 28s 577us/step - loss: 0.0711 - accuracy: 0.9781 - val_loss: 0.0432 - val_accuracy: 0.9874\n",
      "Epoch 6/10\n",
      "48000/48000 [==============================] - 28s 580us/step - loss: 0.0645 - accuracy: 0.9808 - val_loss: 0.0413 - val_accuracy: 0.9881\n",
      "Epoch 7/10\n",
      "48000/48000 [==============================] - 28s 584us/step - loss: 0.0543 - accuracy: 0.9834 - val_loss: 0.0383 - val_accuracy: 0.9887\n",
      "Epoch 8/10\n",
      "48000/48000 [==============================] - 30s 627us/step - loss: 0.0497 - accuracy: 0.9848 - val_loss: 0.0359 - val_accuracy: 0.9902\n",
      "Epoch 9/10\n",
      "48000/48000 [==============================] - 28s 593us/step - loss: 0.0459 - accuracy: 0.9862 - val_loss: 0.0351 - val_accuracy: 0.9912\n",
      "Epoch 10/10\n",
      "48000/48000 [==============================] - 29s 604us/step - loss: 0.0426 - accuracy: 0.9866 - val_loss: 0.0307 - val_accuracy: 0.9918\n"
     ]
    }
   ],
   "source": [
    "# 定義訓練方式  \n",
    "model.compile(loss='categorical_crossentropy', optimizer='adam', metrics=['accuracy'])  \n",
    "  \n",
    "# 開始訓練  \n",
    "train_history = model.fit(x=X_Train4D_norm,  \n",
    "                          y=y_TrainOneHot, validation_split=0.2,  \n",
    "                          epochs=10, batch_size=300, verbose=1)"
   ]
  },
  {
   "cell_type": "code",
   "execution_count": 5,
   "metadata": {},
   "outputs": [],
   "source": [
    "import matplotlib.pyplot as plt  \n",
    "def plot_image(image):  \n",
    "    fig = plt.gcf()  \n",
    "    fig.set_size_inches(2,2)  \n",
    "    plt.imshow(image, cmap='binary')  \n",
    "    plt.show()  \n",
    "\n",
    "def plot_images_labels_predict(images, labels, prediction, idx, num=10):  \n",
    "    fig = plt.gcf()  \n",
    "    fig.set_size_inches(12, 14)  \n",
    "    if num > 25: num = 25  \n",
    "    for i in range(0, num):  \n",
    "        ax=plt.subplot(5,5, 1+i)  \n",
    "        ax.imshow(images[idx], cmap='binary')  \n",
    "        title = \"l=\" + str(labels[idx])  \n",
    "        if len(prediction) > 0:  \n",
    "            title = \"l={},p={}\".format(str(labels[idx]), str(prediction[idx]))  \n",
    "        else:  \n",
    "            title = \"l={}\".format(str(labels[idx]))  \n",
    "        ax.set_title(title, fontsize=10)  \n",
    "        ax.set_xticks([]); ax.set_yticks([])  \n",
    "        idx+=1  \n",
    "    plt.show()  \n",
    "\n",
    "def show_train_history(train_history, train, validation):  \n",
    "    plt.plot(train_history.history[train])  \n",
    "    plt.plot(train_history.history[validation])  \n",
    "    plt.title('Train History')  \n",
    "    plt.ylabel(train)  \n",
    "    plt.xlabel('Epoch')  \n",
    "    plt.legend(['train', 'validation'], loc='upper left')  \n",
    "    plt.show()"
   ]
  },
  {
   "cell_type": "code",
   "execution_count": 6,
   "metadata": {},
   "outputs": [
    {
     "data": {
      "image/png": "[encoded data removed]",
      "text/plain": [
       "<Figure size 432x288 with 1 Axes>"
      ]
     },
     "metadata": {
      "needs_background": "light"
     },
     "output_type": "display_data"
    },
    {
     "data": {
      "image/png": "[encoded data removed]",
      "text/plain": [
       "<Figure size 432x288 with 1 Axes>"
      ]
     },
     "metadata": {
      "needs_background": "light"
     },
     "output_type": "display_data"
    }
   ],
   "source": [
    "show_train_history(train_history, 'accuracy', 'val_accuracy')\n",
    "\n",
    "show_train_history(train_history, 'loss', 'val_loss')"
   ]
  },
  {
   "cell_type": "code",
   "execution_count": 7,
   "metadata": {},
   "outputs": [],
   "source": [
    "import glob as gb\n",
    "import cv2"
   ]
  },
  {
   "cell_type": "code",
   "execution_count": 10,
   "metadata": {},
   "outputs": [
    {
     "name": "stdout",
     "output_type": "stream",
     "text": [
      "\n",
      "生成的數獨\n",
      "\n",
      "[[2 5 0 0 5 0 0 3 0]\n",
      " [4 0 0 0 3 0 2 0 0]\n",
      " [0 3 2 0 0 0 4 0 5]\n",
      " [0 0 0 0 0 3 0 0 0]\n",
      " [0 0 3 0 5 0 3 0 0]\n",
      " [0 0 0 2 0 0 0 0 0]\n",
      " [5 0 3 0 0 0 3 7 0]\n",
      " [0 0 2 0 4 0 0 0 5]\n",
      " [0 2 0 0 3 0 0 3 3]]\n"
     ]
    }
   ],
   "source": [
    "# -*- coding: UTF-8 -*-\n",
    "img = cv2.imread('sudoku.jpg')\n",
    "gray = cv2.cvtColor(img,cv2.COLOR_BGR2GRAY)\n",
    "## 阈值分割\n",
    "ret,thresh = cv2.threshold(gray,200,255,1)\n",
    "\n",
    "## 對二值圖像執行膨脹操作\n",
    "kernel = cv2.getStructuringElement(cv2.MORPH_CROSS,(5, 5))     \n",
    "dilated = cv2.dilate(thresh,kernel)\n",
    "\n",
    "## 輪廓提取，cv2.RETR_TREE表示建立層級結構\n",
    "_ ,contours, hierarchy = cv2.findContours(dilated,cv2.RETR_TREE,cv2.CHAIN_APPROX_SIMPLE)\n",
    "\n",
    "## 提取小方格，其父輪廓都为0號輪廓\n",
    "boxes = []\n",
    "for i in range(len(hierarchy[0])):\n",
    "    if hierarchy[0][i][3] == 0:\n",
    "        boxes.append(hierarchy[0][i])\n",
    "\n",
    "## 提取數字，其父輪廓都存在子輪廓        \n",
    "height,width = img.shape[:2]\n",
    "box_h = height/9\n",
    "box_w = width/9\n",
    "number_boxes = []\n",
    "soduko = np.zeros((9, 9),np.int32)\n",
    "\n",
    "for j in range(len(boxes)):\n",
    "    if boxes[j][2] != -1:\n",
    "        #number_boxes.append(boxes[j])\n",
    "        x,y,w,h = cv2.boundingRect(contours[boxes[j][2]])\n",
    "        number_boxes.append([x,y,w,h])\n",
    "        #img = cv2.rectangle(img,(x-1,y-1),(x+w+1,y+h+1),(0,0,255),2)\n",
    "        #img = cv2.drawContours(img, contours, boxes[j][2], (0,255,0), 1)\n",
    "        ## 提取數字預處理\n",
    "        number_roi = gray[y:y+h, x:x+w]\n",
    "        \n",
    "        ## 統一大小\n",
    "        resized_roi=cv2.resize(number_roi,(28,28))\n",
    "        thresh1 = cv2.adaptiveThreshold(resized_roi,255,1,1,11,2) \n",
    "        \n",
    "        ## 歸一化像素值\n",
    "        normalized_roi = thresh1/255.  \n",
    "        ## resize\n",
    "        resize = normalized_roi.reshape(1,28,28,1).astype(\"float32\")\n",
    "        \n",
    "        prediction = model.predict_classes(resize)  # Making prediction and save result to prediction  \n",
    "\n",
    "  \n",
    "        ## 識別结果展示\n",
    "        cv2.putText(img,str(prediction),(x+w+1,y+h-20), 3, 2., (255, 0, 0), 2, cv2.LINE_AA)\n",
    "        \n",
    "        ## 求在矩陣中的位置\n",
    "        soduko[int(y/box_h)][int(x/box_w)] = prediction\n",
    "               \n",
    "    \n",
    "\n",
    "print(\"\\n生成的數獨\\n\")\n",
    "print(soduko)\n",
    "\n",
    "\n"
   ]
  },
  {
   "cell_type": "markdown",
   "metadata": {},
   "source": [
    "### 先前已自行抓取 印刷體數字集 0~9個十張 以knn方式進行訓練\n",
    "### 想嘗試更大資料及 MNIST的手寫資料集 想嘗試看看是否可行 \n",
    "### 發現準確率極低 不確定是輸入資料錯誤 或是手寫與印刷特徵差異過大"
   ]
  },
  {
   "cell_type": "code",
   "execution_count": null,
   "metadata": {},
   "outputs": [],
   "source": []
  }
 ],
 "metadata": {
  "kernelspec": {
   "display_name": "Python 3",
   "language": "python",
   "name": "python3"
  },
  "language_info": {
   "codemirror_mode": {
    "name": "ipython",
    "version": 3
   },
   "file_extension": ".py",
   "mimetype": "text/x-python",
   "name": "python",
   "nbconvert_exporter": "python",
   "pygments_lexer": "ipython3",
   "version": "3.6.12"
  }
 },
 "nbformat": 4,
 "nbformat_minor": 4
}
